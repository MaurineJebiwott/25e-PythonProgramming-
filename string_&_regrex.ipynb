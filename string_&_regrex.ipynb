{
 "cells": [
  {
   "cell_type": "code",
   "execution_count": 1,
   "id": "8bab221a",
   "metadata": {},
   "outputs": [
    {
     "data": {
      "text/plain": [
       "'Eooi'"
      ]
     },
     "execution_count": 1,
     "metadata": {},
     "output_type": "execute_result"
    }
   ],
   "source": [
    "s='Economics'\n",
    "s[:7:2]"
   ]
  },
  {
   "cell_type": "markdown",
   "id": "6a581461",
   "metadata": {},
   "source": [
    "String is immutable/ therefore a new string should be used "
   ]
  },
  {
   "cell_type": "code",
   "execution_count": 2,
   "id": "ba12650d",
   "metadata": {},
   "outputs": [
    {
     "name": "stdout",
     "output_type": "stream",
     "text": [
      "economics\n"
     ]
    }
   ],
   "source": [
    "x=s.replace('E', 'e')\n",
    "print(x)"
   ]
  },
  {
   "cell_type": "markdown",
   "id": "9c833e70",
   "metadata": {},
   "source": [
    "Basics string operations"
   ]
  },
  {
   "cell_type": "code",
   "execution_count": null,
   "id": "56c6b60e",
   "metadata": {},
   "outputs": [],
   "source": [
    "#concatenating strings \n",
    "#repetition \n",
    "#Membership"
   ]
  },
  {
   "cell_type": "code",
   "execution_count": 4,
   "id": "e85e6a48",
   "metadata": {},
   "outputs": [
    {
     "name": "stdout",
     "output_type": "stream",
     "text": [
      "MaurineJebiwott\n"
     ]
    }
   ],
   "source": [
    "#Concatenating(+)\n",
    "first_name = 'Maurine'\n",
    "last_name = 'Jebiwott'\n",
    "full_name = first_name + '' + last_name\n",
    "print(full_name)"
   ]
  },
  {
   "cell_type": "code",
   "execution_count": null,
   "id": "c303b93c",
   "metadata": {},
   "outputs": [
    {
     "name": "stdout",
     "output_type": "stream",
     "text": [
      "HaHaHa\n"
     ]
    }
   ],
   "source": [
    "#Repetition(*)\n",
    "print (\"Ha\" * 3)"
   ]
  },
  {
   "cell_type": "code",
   "execution_count": null,
   "id": "a0a8e217",
   "metadata": {},
   "outputs": [],
   "source": [
    "#Membership(n)"
   ]
  },
  {
   "cell_type": "markdown",
   "id": "702bd200",
   "metadata": {},
   "source": [
    "Some useful string methods"
   ]
  },
  {
   "cell_type": "code",
   "execution_count": 6,
   "id": "fc67c7cb",
   "metadata": {},
   "outputs": [
    {
     "name": "stdout",
     "output_type": "stream",
     "text": [
      "I love python programming\n"
     ]
    }
   ],
   "source": [
    "#casing operartions\n",
    "sentence =\"i love python programming\"\n",
    "print(sentence.capitalize())"
   ]
  },
  {
   "cell_type": "code",
   "execution_count": 7,
   "id": "b2f2f96d",
   "metadata": {},
   "outputs": [
    {
     "name": "stdout",
     "output_type": "stream",
     "text": [
      "['i', 'love', 'python', 'programming']\n"
     ]
    }
   ],
   "source": [
    "print(sentence.split())"
   ]
  },
  {
   "cell_type": "code",
   "execution_count": 8,
   "id": "846b1ed5",
   "metadata": {},
   "outputs": [
    {
     "name": "stdout",
     "output_type": "stream",
     "text": [
      "['We are going home', ' my home is in Nakuru']\n"
     ]
    }
   ],
   "source": [
    "sentence ='We are going home, my home is in Nakuru'\n",
    "print(sentence.split(','))"
   ]
  },
  {
   "cell_type": "code",
   "execution_count": null,
   "id": "5d3000b1",
   "metadata": {},
   "outputs": [
    {
     "name": "stdout",
     "output_type": "stream",
     "text": [
      "2025-06-1\n"
     ]
    }
   ],
   "source": [
    "print('-'.join(['2025', '06', '1'])) "
   ]
  }
 ],
 "metadata": {
  "kernelspec": {
   "display_name": "maurineenv",
   "language": "python",
   "name": "python3"
  },
  "language_info": {
   "codemirror_mode": {
    "name": "ipython",
    "version": 3
   },
   "file_extension": ".py",
   "mimetype": "text/x-python",
   "name": "python",
   "nbconvert_exporter": "python",
   "pygments_lexer": "ipython3",
   "version": "3.13.3"
  }
 },
 "nbformat": 4,
 "nbformat_minor": 5
}
