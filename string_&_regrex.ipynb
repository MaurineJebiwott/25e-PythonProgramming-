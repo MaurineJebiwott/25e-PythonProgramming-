{
 "cells": [
  {
   "cell_type": "code",
   "execution_count": 1,
   "id": "8bab221a",
   "metadata": {},
   "outputs": [
    {
     "data": {
      "text/plain": [
       "'Eooi'"
      ]
     },
     "execution_count": 1,
     "metadata": {},
     "output_type": "execute_result"
    }
   ],
   "source": [
    "s='Economics'\n",
    "s[:7:2]"
   ]
  },
  {
   "cell_type": "markdown",
   "id": "6a581461",
   "metadata": {},
   "source": [
    "String is immutable/ therefore a new string should be used "
   ]
  },
  {
   "cell_type": "code",
   "execution_count": 2,
   "id": "ba12650d",
   "metadata": {},
   "outputs": [
    {
     "name": "stdout",
     "output_type": "stream",
     "text": [
      "economics\n"
     ]
    }
   ],
   "source": [
    "x=s.replace('E', 'e')\n",
    "print(x)"
   ]
  },
  {
   "cell_type": "markdown",
   "id": "9c833e70",
   "metadata": {},
   "source": [
    "Basics string operations"
   ]
  },
  {
   "cell_type": "code",
   "execution_count": null,
   "id": "56c6b60e",
   "metadata": {},
   "outputs": [],
   "source": [
    "#concatenating strings \n",
    "#repetition \n",
    "#Membership"
   ]
  },
  {
   "cell_type": "code",
   "execution_count": 3,
   "id": "e85e6a48",
   "metadata": {},
   "outputs": [
    {
     "name": "stdout",
     "output_type": "stream",
     "text": [
      "Maurine Jebiwott\n"
     ]
    }
   ],
   "source": [
    "#Concatenating(+)\n",
    "first_name = 'Maurine'\n",
    "last_name = 'Jebiwott'\n",
    "full_name = first_name + ' ' + last_name\n",
    "print(full_name)"
   ]
  },
  {
   "cell_type": "code",
   "execution_count": null,
   "id": "c303b93c",
   "metadata": {},
   "outputs": [
    {
     "name": "stdout",
     "output_type": "stream",
     "text": [
      "HaHaHa\n"
     ]
    }
   ],
   "source": [
    "#Repetition(*)\n",
    "print (\"Ha\" * 3)"
   ]
  },
  {
   "cell_type": "code",
   "execution_count": null,
   "id": "19fcad13",
   "metadata": {},
   "outputs": [
    {
     "name": "stdout",
     "output_type": "stream",
     "text": [
      "False\n"
     ]
    }
   ],
   "source": [
    "#Membership question \n",
    "print ('b' in 'Austin')\n",
    "#the output is always a boolean value \n",
    "#Strings are case sensitive"
   ]
  },
  {
   "cell_type": "code",
   "execution_count": null,
   "id": "a0a8e217",
   "metadata": {},
   "outputs": [],
   "source": [
    "#Membership(n)"
   ]
  },
  {
   "cell_type": "markdown",
   "id": "702bd200",
   "metadata": {},
   "source": [
    "Some useful string methods"
   ]
  },
  {
   "cell_type": "code",
   "execution_count": 6,
   "id": "fc67c7cb",
   "metadata": {},
   "outputs": [
    {
     "name": "stdout",
     "output_type": "stream",
     "text": [
      "I love python programming\n"
     ]
    }
   ],
   "source": [
    "#casing operartions\n",
    "sentence =\"i love python programming\"\n",
    "print(sentence.capitalize())"
   ]
  },
  {
   "cell_type": "code",
   "execution_count": null,
   "id": "b2f2f96d",
   "metadata": {},
   "outputs": [
    {
     "name": "stdout",
     "output_type": "stream",
     "text": [
      "['i', 'love', 'python', 'programming']\n"
     ]
    }
   ],
   "source": [
    "print(sentence.split())\n",
    "#Making a list of words from a string \n"
   ]
  },
  {
   "cell_type": "code",
   "execution_count": null,
   "id": "846b1ed5",
   "metadata": {},
   "outputs": [
    {
     "name": "stdout",
     "output_type": "stream",
     "text": [
      "['We are going home', ' my home is in Nakuru']\n"
     ]
    }
   ],
   "source": [
    "sentence ='We are going home, my home is in Nakuru'\n",
    "print(sentence.split(','))\n",
    "#The separator is a comma, it can be any character for example a hashtag. "
   ]
  },
  {
   "cell_type": "code",
   "execution_count": null,
   "id": "5d3000b1",
   "metadata": {},
   "outputs": [
    {
     "name": "stdout",
     "output_type": "stream",
     "text": [
      "2025-06-1\n"
     ]
    }
   ],
   "source": [
    "#Define the separator the the list of words. \n",
    "\n",
    "print('-'.join(['2025', '06', '1'])) "
   ]
  },
  {
   "cell_type": "markdown",
   "id": "10de6977",
   "metadata": {},
   "source": [
    "Extracting substrings from strings "
   ]
  },
  {
   "cell_type": "code",
   "execution_count": null,
   "id": "46df7c74",
   "metadata": {},
   "outputs": [],
   "source": [
    "#From stephen.marquad@ uct.ac.za Sat Jan 5 09:14:19 2008"
   ]
  },
  {
   "cell_type": "code",
   "execution_count": 5,
   "id": "365b1073",
   "metadata": {},
   "outputs": [
    {
     "data": {
      "text/plain": [
       "['From',\n",
       " 'stephen.marquad@',\n",
       " 'uct.ac.za',\n",
       " 'Sat',\n",
       " 'Jan',\n",
       " '5',\n",
       " '09:14:19',\n",
       " '2008']"
      ]
     },
     "execution_count": 5,
     "metadata": {},
     "output_type": "execute_result"
    }
   ],
   "source": [
    "line  = 'From stephen.marquad@ uct.ac.za Sat Jan 5 09:14:19 2008'\n",
    "words =line.split(' ')\n",
    "words\n"
   ]
  },
  {
   "cell_type": "code",
   "execution_count": 23,
   "id": "e5ee5c39",
   "metadata": {},
   "outputs": [
    {
     "name": "stdout",
     "output_type": "stream",
     "text": [
      "stephen.marquad@\n"
     ]
    }
   ],
   "source": [
    "#Splitting emails address\n",
    "email =words[1]\n",
    "print(email)"
   ]
  },
  {
   "cell_type": "code",
   "execution_count": 19,
   "id": "72d5f1ff",
   "metadata": {},
   "outputs": [
    {
     "data": {
      "text/plain": [
       "15"
      ]
     },
     "execution_count": 19,
     "metadata": {},
     "output_type": "execute_result"
    }
   ],
   "source": [
    "#Splitting the name \n",
    "#method find \n",
    "at_index = email.find('@')\n",
    "at_index"
   ]
  },
  {
   "cell_type": "code",
   "execution_count": 30,
   "id": "8824a9a6",
   "metadata": {},
   "outputs": [
    {
     "data": {
      "text/plain": [
       "'stephen.marquad'"
      ]
     },
     "execution_count": 30,
     "metadata": {},
     "output_type": "execute_result"
    }
   ],
   "source": [
    "joined_name = email[0:15]\n",
    "joined_name"
   ]
  },
  {
   "cell_type": "code",
   "execution_count": 32,
   "id": "e06320ce",
   "metadata": {},
   "outputs": [
    {
     "data": {
      "text/plain": [
       "['From',\n",
       " 'stephen.marquad@',\n",
       " 'uct.ac.za',\n",
       " 'Sat',\n",
       " 'Jan',\n",
       " '5',\n",
       " '09:14:19',\n",
       " '2008']"
      ]
     },
     "execution_count": 32,
     "metadata": {},
     "output_type": "execute_result"
    }
   ],
   "source": [
    "words"
   ]
  },
  {
   "cell_type": "code",
   "execution_count": 33,
   "id": "bc15d1a5",
   "metadata": {},
   "outputs": [
    {
     "data": {
      "text/plain": [
       "'Jan'"
      ]
     },
     "execution_count": 33,
     "metadata": {},
     "output_type": "execute_result"
    }
   ],
   "source": [
    "month= words[4]\n",
    "month"
   ]
  },
  {
   "cell_type": "code",
   "execution_count": 34,
   "id": "eef2c52e",
   "metadata": {},
   "outputs": [
    {
     "data": {
      "text/plain": [
       "'Sat'"
      ]
     },
     "execution_count": 34,
     "metadata": {},
     "output_type": "execute_result"
    }
   ],
   "source": [
    "Day= words[3]\n",
    "Day"
   ]
  },
  {
   "cell_type": "markdown",
   "id": "c51de5ec",
   "metadata": {},
   "source": [
    "Find() first instance, it can take an argument"
   ]
  },
  {
   "cell_type": "markdown",
   "id": "6e12270e",
   "metadata": {},
   "source": [
    "We have the following email an timestamps \n",
    "\n",
    "line= 'From jebiwottmaurine024@zindua.tech Sat Jun 11:13:00 2025'\n",
    "Do not use the split method"
   ]
  },
  {
   "cell_type": "code",
   "execution_count": 36,
   "id": "e6538039",
   "metadata": {},
   "outputs": [
    {
     "data": {
      "text/plain": [
       "['From',\n",
       " 'jebiwottmaurine024@zindua.tech',\n",
       " 'Sat',\n",
       " 'Jan',\n",
       " '5',\n",
       " '09:14:19',\n",
       " '2008']"
      ]
     },
     "execution_count": 36,
     "metadata": {},
     "output_type": "execute_result"
    }
   ],
   "source": [
    "lines= 'From jebiwottmaurine024@zindua.tech Sat Jan 5 09:14:19 2008'\n",
    "words_lists = lines.split(' ')\n",
    "words_lists "
   ]
  },
  {
   "cell_type": "code",
   "execution_count": 45,
   "id": "af375b75",
   "metadata": {},
   "outputs": [
    {
     "data": {
      "text/plain": [
       "'jebiwottmaurine024@zindua.tech'"
      ]
     },
     "execution_count": 45,
     "metadata": {},
     "output_type": "execute_result"
    }
   ],
   "source": [
    "email = words_lists[1]\n",
    "email"
   ]
  },
  {
   "cell_type": "code",
   "execution_count": 47,
   "id": "5809d578",
   "metadata": {},
   "outputs": [
    {
     "data": {
      "text/plain": [
       "19"
      ]
     },
     "execution_count": 47,
     "metadata": {},
     "output_type": "execute_result"
    }
   ],
   "source": [
    "index =email.find('z')\n",
    "index"
   ]
  },
  {
   "cell_type": "code",
   "execution_count": 49,
   "id": "bbe3acf1",
   "metadata": {},
   "outputs": [
    {
     "name": "stdout",
     "output_type": "stream",
     "text": [
      "zindua.tech\n"
     ]
    }
   ],
   "source": [
    "print(email[19::1])\n"
   ]
  },
  {
   "cell_type": "markdown",
   "id": "9eb8454b",
   "metadata": {},
   "source": [
    "Regular Expressions "
   ]
  },
  {
   "cell_type": "code",
   "execution_count": 51,
   "id": "ac3964fb",
   "metadata": {},
   "outputs": [
    {
     "name": "stdout",
     "output_type": "stream",
     "text": [
      "['4', '5', '2', '0', '2', '3']\n"
     ]
    }
   ],
   "source": [
    "#character classes - match specific types or sets of characters\n",
    "#\\d matches any digit (0-9)\n",
    "\n",
    "import re \n",
    "print(re.findall(r'\\d', 'Order 45 was placed in 2023 '))"
   ]
  },
  {
   "cell_type": "code",
   "execution_count": null,
   "id": "b5333b45",
   "metadata": {},
   "outputs": [
    {
     "name": "stdout",
     "output_type": "stream",
     "text": [
      "['Weloome', 'to', 'Python', '3']\n"
     ]
    }
   ],
   "source": [
    "#w+ matches any word character, \n",
    "\n",
    "print(re.findall(r'\\w+', 'Weloome to Python 3!'))"
   ]
  },
  {
   "cell_type": "code",
   "execution_count": 53,
   "id": "ade06adf",
   "metadata": {},
   "outputs": [
    {
     "name": "stdout",
     "output_type": "stream",
     "text": [
      "[' ', ' ', '\\n', ' ', ' ', '\\t', ' ', ' ']\n"
     ]
    }
   ],
   "source": [
    "#Matches whitespaces, escape characters \n",
    "\n",
    "print(re.findall(r'\\s', 'Hello world \\n Goodbye \\t world '))"
   ]
  },
  {
   "cell_type": "code",
   "execution_count": 54,
   "id": "ffca412c",
   "metadata": {},
   "outputs": [
    {
     "name": "stdout",
     "output_type": "stream",
     "text": [
      "['a', 'u', 'i', 'e', 'e', 'i', 'o']\n"
     ]
    }
   ],
   "source": [
    "#[....] matches any characters in the brackets \n",
    "print(re.findall(r'[aeiou]', 'Maurine Jebiwott'))"
   ]
  },
  {
   "cell_type": "markdown",
   "id": "cf6f296b",
   "metadata": {},
   "source": [
    "r stands for raw strings, interpret is as it is aeiou is not a string "
   ]
  },
  {
   "cell_type": "code",
   "execution_count": null,
   "id": "430fa26c",
   "metadata": {},
   "outputs": [
    {
     "name": "stdout",
     "output_type": "stream",
     "text": [
      "['12', '4', '300']\n"
     ]
    }
   ],
   "source": [
    "#quantifiers - they control how many times the character can appear \n",
    "# \\d+- digits appear one or more times \n",
    "print(re.findall(r'\\d+', ' We have 12 cows , 4 goats, and 300 chickens.'))\n"
   ]
  },
  {
   "cell_type": "code",
   "execution_count": 56,
   "id": "3a9770b5",
   "metadata": {},
   "outputs": [
    {
     "name": "stdout",
     "output_type": "stream",
     "text": [
      "['color', 'colour']\n"
     ]
    }
   ],
   "source": [
    "# ? zero or one\n",
    "# it can be there or not there(optional )\n",
    "print(re.findall(r'colou?r', 'color and colour are both valid'))"
   ]
  },
  {
   "cell_type": "code",
   "execution_count": 57,
   "id": "9dd957c0",
   "metadata": {},
   "outputs": [
    {
     "name": "stdout",
     "output_type": "stream",
     "text": [
      "['abb', 'a', 'abb', 'ab']\n"
     ]
    }
   ],
   "source": [
    "# * match an a, followed by zero or more bs \n",
    "print (re.findall(r'ab*','abb a abb abc'))"
   ]
  },
  {
   "cell_type": "code",
   "execution_count": 58,
   "id": "3fb3e9a4",
   "metadata": {},
   "outputs": [
    {
     "name": "stdout",
     "output_type": "stream",
     "text": [
      "['8907']\n"
     ]
    }
   ],
   "source": [
    "# {m} m- times \n",
    "print(re.findall(r'\\d{4}', 'My pin is 34 and 8907'))\n"
   ]
  },
  {
   "cell_type": "code",
   "execution_count": null,
   "id": "603343bf",
   "metadata": {},
   "outputs": [],
   "source": [
    "#Anchors- They specify the position and not the matching pattern\n",
    "# ^ - starts of a string \n",
    "print(re.findall(r'^Hello', 'Hello World Python'))"
   ]
  },
  {
   "cell_type": "code",
   "execution_count": 62,
   "id": "4ca092fa",
   "metadata": {},
   "outputs": [
    {
     "name": "stdout",
     "output_type": "stream",
     "text": [
      "['World']\n"
     ]
    }
   ],
   "source": [
    "# $ - end of a string \n",
    "print(re.findall(r'World$', 'Hello World'))"
   ]
  },
  {
   "cell_type": "code",
   "execution_count": 59,
   "id": "7e4fd7d2",
   "metadata": {},
   "outputs": [
    {
     "name": "stdout",
     "output_type": "stream",
     "text": [
      "['cat ']\n"
     ]
    }
   ],
   "source": [
    "# \\b word boundry- used for eact matches of words\n",
    "\n",
    "text = 'A cat sat on the catalog '\n",
    "print(re.findall(r'\\bcat\\b ',text))"
   ]
  },
  {
   "cell_type": "code",
   "execution_count": null,
   "id": "5b55ec0e",
   "metadata": {},
   "outputs": [],
   "source": [
    "import re\n",
    "\n",
    "password = input(\"Enter a password: \")\n",
    "\n",
    "# Regex explanation- with lookahead asertions\n",
    "# - (?=.*[a-z])       → must contain at least one lowercase letter\n",
    "# - (?=.*[A-Z])       → must contain at least one uppercase letter\n",
    "# - (?=.*\\d)          → must contain at least one digit\n",
    "# - [A-Za-z\\d]{8,}    → overall length is 8 or more and contains only letters and digits\n",
    "\n",
    "pattern = r'^(?=.*[a-z])(?=.*[A-Z])(?=.*\\d)[A-Za-z\\d]{8,}$'\n",
    "\n",
    "if re.fullmatch(pattern, password):\n",
    "    print(\" Password is valid.\")\n",
    "else:\n",
    "    print(\"Password is invalid. Must be at least 8 characters, with uppercase, lowercase, and digit.\")\n"
   ]
  }
 ],
 "metadata": {
  "kernelspec": {
   "display_name": "maurineenv",
   "language": "python",
   "name": "python3"
  },
  "language_info": {
   "codemirror_mode": {
    "name": "ipython",
    "version": 3
   },
   "file_extension": ".py",
   "mimetype": "text/x-python",
   "name": "python",
   "nbconvert_exporter": "python",
   "pygments_lexer": "ipython3",
   "version": "3.13.3"
  }
 },
 "nbformat": 4,
 "nbformat_minor": 5
}
