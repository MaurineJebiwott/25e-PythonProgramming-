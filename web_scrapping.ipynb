{
 "cells": [
  {
   "cell_type": "markdown",
   "id": "c8a5de60",
   "metadata": {},
   "source": [
    "When you run the request.get() you get a response object as output.Thisobject contains. status_code "
   ]
  },
  {
   "cell_type": "code",
   "execution_count": 1,
   "id": "daa3a495",
   "metadata": {},
   "outputs": [],
   "source": [
    "import requests\n",
    "import bs4 as BeautifulSoup"
   ]
  },
  {
   "cell_type": "code",
   "execution_count": null,
   "id": "654e029c",
   "metadata": {},
   "outputs": [],
   "source": [
    "#define the URL you want to scrap\n",
    "url = 'https://www.jumia.co.ke/catalog/?q=air+fryer'\n",
    "\n",
    "#create a fake user- so that you do not get blocked \n",
    "\n",
    "headers = {\n",
    "    \n",
    "    \"User-Agent\": \"Chrome/5.0\"\n",
    "}\n",
    "\n"
   ]
  },
  {
   "cell_type": "code",
   "execution_count": null,
   "id": "eed318d8",
   "metadata": {},
   "outputs": [],
   "source": [
    "# now send a get request\n",
    "\n",
    "response = requests.get(url, headers=headers)\n",
    "#then use the html parser to read the content off the web page \n",
    "\n",
    "soup "
   ]
  }
 ],
 "metadata": {
  "kernelspec": {
   "display_name": "maurineenv",
   "language": "python",
   "name": "python3"
  },
  "language_info": {
   "codemirror_mode": {
    "name": "ipython",
    "version": 3
   },
   "file_extension": ".py",
   "mimetype": "text/x-python",
   "name": "python",
   "nbconvert_exporter": "python",
   "pygments_lexer": "ipython3",
   "version": "3.13.3"
  }
 },
 "nbformat": 4,
 "nbformat_minor": 5
}
