{
 "cells": [
  {
   "cell_type": "markdown",
   "id": "17b77489",
   "metadata": {},
   "source": [
    "Dictionary \n",
    "\n",
    "\n",
    "A dictionary in python is an unordered,mutable and indexed collection of key-value pairs. Each item in a dictionary is stored as:\n",
    "\n",
    "key:value\n",
    "\n",
    "- Keys must be unique and immutable(eg strings, numbers, tuples)\n",
    "- Values can be of any data type and can repeat \n"
   ]
  },
  {
   "cell_type": "code",
   "execution_count": null,
   "id": "a3d5b043",
   "metadata": {},
   "outputs": [],
   "source": [
    "#Empty dictionary \n",
    "empty_dict ={}"
   ]
  },
  {
   "cell_type": "code",
   "execution_count": 1,
   "id": "8ca21829",
   "metadata": {},
   "outputs": [],
   "source": [
    "#Dictinary with data \n",
    "\n",
    "student={\n",
    "    'name':'Maurine',\n",
    "    'age': 23,\n",
    "    'profession':'Software Engineer',\n",
    "\n",
    "}"
   ]
  },
  {
   "cell_type": "markdown",
   "id": "07d075dc",
   "metadata": {},
   "source": [
    "Methods\n",
    "\n",
    "- Get(keys)-get value for key \n",
    "- key()-Returns all key\n",
    "- pop(key)-Removes key and returns value "
   ]
  }
 ],
 "metadata": {
  "kernelspec": {
   "display_name": "maurineenv",
   "language": "python",
   "name": "python3"
  },
  "language_info": {
   "codemirror_mode": {
    "name": "ipython",
    "version": 3
   },
   "file_extension": ".py",
   "mimetype": "text/x-python",
   "name": "python",
   "nbconvert_exporter": "python",
   "pygments_lexer": "ipython3",
   "version": "3.13.3"
  }
 },
 "nbformat": 4,
 "nbformat_minor": 5
}
