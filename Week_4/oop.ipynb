{
 "cells": [
  {
   "cell_type": "markdown",
   "id": "3c11c8e5",
   "metadata": {},
   "source": [
    "Defining a class and instantiating an object in oop"
   ]
  },
  {
   "cell_type": "code",
   "execution_count": null,
   "id": "a32c1675",
   "metadata": {},
   "outputs": [],
   "source": [
    "#defining/creating a class \n",
    "## syntax\n",
    "\n",
    "\n",
    "#class class_name:\n",
    "    #atribute=\n",
    "    #def method_name\n",
    "\n"
   ]
  },
  {
   "cell_type": "code",
   "execution_count": null,
   "id": "a24b0262",
   "metadata": {},
   "outputs": [],
   "source": [
    "class Dog:\n",
    "    species ='German Shepherd'\n",
    "    def bark(self):\n",
    "        print('wolf')"
   ]
  },
  {
   "cell_type": "markdown",
   "id": "7e34b62a",
   "metadata": {},
   "source": [
    "\"self\" as an alias of the object- it represents, specifically the currect object . It allows each object to keep track of its own data, and it must be the first parameter of any method defined in a class, inlcuding the init method "
   ]
  },
  {
   "cell_type": "markdown",
   "id": "7f4f59f9",
   "metadata": {},
   "source": [
    "#### Constructor in Python( __init__ method)\n",
    "\n",
    "Often you want each object to have its own unique set of initial attribute (xtrict) when it is created. \n",
    "\"__init__ method \" is a special method that gives each object that will"
   ]
  },
  {
   "cell_type": "code",
   "execution_count": null,
   "id": "f3e2f4d2",
   "metadata": {},
   "outputs": [],
   "source": [
    "class Dog:\n",
    "    def __init__(self, species, name, age):#state of the object\n",
    "        \n",
    "        self.species =species\n",
    "        self.name=name\n",
    "        self.age=age\n",
    "    def bark(self):\n",
    "        print('wolf')\n"
   ]
  },
  {
   "cell_type": "code",
   "execution_count": null,
   "id": "07366dc8",
   "metadata": {},
   "outputs": [],
   "source": [
    "dog_1 = Dog('German Shepherd', 'max',2)"
   ]
  },
  {
   "cell_type": "markdown",
   "id": "a9b3c78c",
   "metadata": {},
   "source": [
    "### Class Variables vs Instance Variables\n",
    "\n",
    "class variable it is applicable to all the objects \n",
    "Instance variable- called "
   ]
  },
  {
   "cell_type": "code",
   "execution_count": 3,
   "id": "eafdaa11",
   "metadata": {},
   "outputs": [],
   "source": [
    "class Book:\n",
    "    def __init__(self,title,author,book_no):\n",
    "        self.title =title\n",
    "        self.author =author\n",
    "        self.book_no =book_no\n",
    "        self.is_borrowed =False\n",
    "    def borrow(self):\n",
    "        self.is_borrowed=True\n",
    "    def return_book(self):\n",
    "        self.is_borrowed=False \n",
    "    def __str__ (self):\n",
    "        status ='Borrowed' if self.is_borrowed else 'Available'\n",
    "        return f'Title:{self.title}, Author:{self.author}, Book No: {self.book_no}, Status: {status}'"
   ]
  },
  {
   "cell_type": "code",
   "execution_count": 10,
   "id": "08b7d0d5",
   "metadata": {},
   "outputs": [],
   "source": [
    "book_1 =Book('The River Between', 'Ngugu wa Thiogo', 1)"
   ]
  },
  {
   "cell_type": "code",
   "execution_count": 11,
   "id": "a013f42e",
   "metadata": {},
   "outputs": [],
   "source": [
    "book_1.borrow()"
   ]
  },
  {
   "cell_type": "code",
   "execution_count": 12,
   "id": "64a66f68",
   "metadata": {},
   "outputs": [
    {
     "name": "stdout",
     "output_type": "stream",
     "text": [
      "Title:The River Between, Author:Ngugu wa Thiogo, Book No: 1, Status: Borrowed\n"
     ]
    }
   ],
   "source": [
    "print(book_1)"
   ]
  },
  {
   "cell_type": "code",
   "execution_count": 4,
   "id": "af779b6b",
   "metadata": {},
   "outputs": [],
   "source": [
    "class Member:\n",
    "    def __init__  (self, name, member_id):\n",
    "        self.name =name\n",
    "        self.member_id =member_id\n",
    "        self.borrowed_books = []\n",
    "    def borrow_book(self,book):\n",
    "        if book.is_borrowed:\n",
    "            print('Book is unavailabe')\n",
    "        else:\n",
    "            book.borrow()\n",
    "            self.borrowed_books.append(book)\n",
    "    def return_book(self,book):\n",
    "        if book in self.borrow_book:\n",
    "            self.borrowed_books.remove(book)\n",
    "            book.return_book()\n",
    "            \n",
    "    def __str__ (self):\n",
    "        books =','.join([book.title for book in self.borrowed_books]) or 'Member has no borrowed books '\n",
    "        return f'Member name: {self.name},Member Id: {self.member_id}, Borrowed Books: {books}'\n",
    "\n"
   ]
  },
  {
   "cell_type": "code",
   "execution_count": 32,
   "id": "a0bb5f7c",
   "metadata": {},
   "outputs": [
    {
     "name": "stdout",
     "output_type": "stream",
     "text": [
      "Member name: Maurine,Member Id: 1, Borrowed Books: The Alchemist\n"
     ]
    }
   ],
   "source": [
    "book_2 =Book('The blossom of the savanah', 'Henry ole kulet',2)\n",
    "book_3 =Book('The Alchemist', 'Henry let',3)\n",
    "member_1 =Member ('Maurine',1)\n",
    "\n",
    "member_1.borrow_book(book_3)\n",
    "print(member_1)"
   ]
  },
  {
   "cell_type": "code",
   "execution_count": 8,
   "id": "eded711f",
   "metadata": {},
   "outputs": [],
   "source": [
    "class Library:\n",
    "    def __init__(self):\n",
    "        self.books = []\n",
    "        self.members=[]\n",
    "    def add_book(self, book):\n",
    "        self.books.append(book)\n",
    "    def add_member(self,member):\n",
    "        self.members.append(member)\n",
    "    def find_book(self, book_no):\n",
    "        for book in self.books:\n",
    "            if book.book_no == book_no:\n",
    "                return book\n",
    "        return None \n",
    "    def find_member (self, member_id):\n",
    "        for member in self.members:\n",
    "            if member.member_id == member_id:\n",
    "                return member\n",
    "        return None\n",
    "    def borrow_book (self,member_id, book_no):\n",
    "        member = self.find_member(member_id)\n",
    "        book = self.find_book(book_no)\n",
    "        if not member:\n",
    "            return 'Member not found'\n",
    "        if not book:\n",
    "            return 'Book not found'\n",
    "        if book.is_borrowed:\n",
    "            return 'Book is already borrowed'\n",
    "        member.borrow_book(book)\n",
    "        return f'Book {book.title} borrowed by {member.name}'\n",
    "    def return_book(self,member_id, book_no):\n",
    "        member =self.find_member(member_id)\n",
    "        book = self.find_book(book_no)\n",
    "        if not member:\n",
    "            return 'Member not found'\n",
    "        if not book:\n",
    "            return 'Book not found'\n",
    "        if book not in member.borrowed_books:\n",
    "            return 'This member did not borrow this book'\n",
    "        member.return_book(book)\n",
    "        return f'Book {book.title} returned by {member.name}'\n",
    "    def __str__(self):\n",
    "        book_info = '\\n'.join([str(book) for book in self.books])\n",
    "        member_info = '\\n'.join([str(member) for member in self.members])\n",
    "        return f'Library Status:\\n Books:\\n {book_info}\\n Members:\\n{member_info}'\n",
    "    \n",
    "\n",
    "\n",
    "\n",
    "    "
   ]
  },
  {
   "cell_type": "code",
   "execution_count": 10,
   "id": "45944c42",
   "metadata": {},
   "outputs": [
    {
     "name": "stdout",
     "output_type": "stream",
     "text": [
      "\n",
      " Library Management System\n",
      "1. Add Book\n",
      "2. Register a Member\n",
      "3. Borrow a Book\n",
      "4. Return a Book\n",
      "5. Display Library Status\n",
      "6. Exit\n",
      "Exiting the system\n"
     ]
    }
   ],
   "source": [
    "def main():\n",
    "    library = Library()\n",
    "    while True:\n",
    "        print('\\n Library Management System')\n",
    "        print('1. Add Book')\n",
    "        print('2. Register a Member')\n",
    "        print('3. Borrow a Book')\n",
    "        print('4. Return a Book')\n",
    "        print('5. Display Library Status')\n",
    "        print('6. Exit')\n",
    "        choice = input('Enter your choice (1-6):')\n",
    "        if choice == '1':\n",
    "            print('Add a new book')\n",
    "            title = input('Enter book title:')\n",
    "            author = input('Enter book author:')\n",
    "            book_no =input('Enter book id:')\n",
    "            if library.find_book(book_no):\n",
    "                print('Book with this id already exists')\n",
    "            else:\n",
    "                new_book = Book(title, author, book_no)\n",
    "                library.add_book(new_book)\n",
    "        elif choice == '2':\n",
    "            print('Register a new member')\n",
    "            name = input('Enter member name:')\n",
    "            member_id = input('Enter member id:')\n",
    "            if library.find_member(member_id):\n",
    "                print('Member with this id already exists')\n",
    "            else:\n",
    "                new_member = Member(name, member_id)\n",
    "                library.add_member(new_member)\n",
    "\n",
    "        elif choice == '3':\n",
    "            print('Borrow a book')\n",
    "            if not library.members:\n",
    "                print('No members registered')\n",
    "                continue\n",
    "            member_id = input('Enter member id:')\n",
    "            book_no = input('Enter book id:')\n",
    "            result = library.borrow_book(member_id, book_no)\n",
    "            print(result)\n",
    "        elif choice == '4':\n",
    "            print('Return a book')\n",
    "            if not library.members:\n",
    "                print('No members registered')\n",
    "                continue\n",
    "            member_id = input('Enter member id:')\n",
    "            book_no = input('Enter book id:')\n",
    "            result = library.return_book(member_id, book_no)\n",
    "            print(result)\n",
    "        elif choice == '5':\n",
    "            print('Display library status')\n",
    "            print(library)\n",
    "        elif choice == '6':\n",
    "            print('Exiting the system')\n",
    "            break\n",
    "        else:\n",
    "            print('Please enter a valid choice (1-6)')\n",
    "\n",
    "if __name__ == '__main__':\n",
    "    main()\n"
   ]
  }
 ],
 "metadata": {
  "kernelspec": {
   "display_name": "maurineenv",
   "language": "python",
   "name": "python3"
  },
  "language_info": {
   "codemirror_mode": {
    "name": "ipython",
    "version": 3
   },
   "file_extension": ".py",
   "mimetype": "text/x-python",
   "name": "python",
   "nbconvert_exporter": "python",
   "pygments_lexer": "ipython3",
   "version": "3.13.3"
  }
 },
 "nbformat": 4,
 "nbformat_minor": 5
}
