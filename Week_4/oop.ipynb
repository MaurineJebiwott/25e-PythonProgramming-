{
 "cells": [
  {
   "cell_type": "markdown",
   "id": "3c11c8e5",
   "metadata": {},
   "source": [
    "Defining a class and instantiating an object in oop"
   ]
  },
  {
   "cell_type": "code",
   "execution_count": null,
   "id": "a32c1675",
   "metadata": {},
   "outputs": [],
   "source": [
    "#defining/creating a class \n",
    "## syntax\n",
    "\n",
    "\n",
    "#class class_name:\n",
    "    #atribute=\n",
    "    #def method_name\n",
    "\n"
   ]
  },
  {
   "cell_type": "code",
   "execution_count": null,
   "id": "a24b0262",
   "metadata": {},
   "outputs": [],
   "source": [
    "class Dog:\n",
    "    species ='German Shepherd'\n",
    "    def bark(self):\n",
    "        print('wolf')"
   ]
  },
  {
   "cell_type": "markdown",
   "id": "7e34b62a",
   "metadata": {},
   "source": [
    "\"self\" as an alias of the object- it represents, specifically the currect object . It allows each object to keep track of its own data, and it must be the first parameter of any method defined in a class, inlcuding the init method "
   ]
  },
  {
   "cell_type": "markdown",
   "id": "7f4f59f9",
   "metadata": {},
   "source": [
    "#### Constructor in Python( __init__ method)\n",
    "\n",
    "Often you want each object to have its own unique set of initial attribute (xtrict) when it is created. \n",
    "\"__init__ method \" is a special method that gives each object that will"
   ]
  },
  {
   "cell_type": "code",
   "execution_count": null,
   "id": "f3e2f4d2",
   "metadata": {},
   "outputs": [],
   "source": [
    "class Dog:\n",
    "    def __init__(self, species, name, age):#state of the object\n",
    "        \n",
    "        self.species =species\n",
    "        self.name=name\n",
    "        self.age=age\n",
    "    def bark(self):\n",
    "        print('wolf')\n"
   ]
  },
  {
   "cell_type": "code",
   "execution_count": null,
   "id": "07366dc8",
   "metadata": {},
   "outputs": [],
   "source": [
    "dog_1 = Dog('German Shepherd', 'max',2)"
   ]
  },
  {
   "cell_type": "markdown",
   "id": "a9b3c78c",
   "metadata": {},
   "source": [
    "### Class Variables vs Instance Variables\n",
    "\n",
    "class variable it is applicable to all the objects \n",
    "Instance variable- called "
   ]
  },
  {
   "cell_type": "code",
   "execution_count": 9,
   "id": "eafdaa11",
   "metadata": {},
   "outputs": [],
   "source": [
    "class Book:\n",
    "    def __init__(self,title,author,book_no):\n",
    "        self.title =title\n",
    "        self.author =author\n",
    "        self.book_no =book_no\n",
    "        self.is_borrowed =False\n",
    "    def borrow(self):\n",
    "        self.is_borrowed=True\n",
    "    def return_book(self):\n",
    "        self.is_borrowed=False \n",
    "    def __str__ (self):\n",
    "        status ='Borrowed' if self.is_borrowed else 'Available'\n",
    "        return f'Title:{self.title}, Author:{self.author}, Book No: {self.book_no}, Status: {status}'"
   ]
  },
  {
   "cell_type": "code",
   "execution_count": 10,
   "id": "08b7d0d5",
   "metadata": {},
   "outputs": [],
   "source": [
    "book_1 =Book('The River Between', 'Ngugu wa Thiogo', 1)"
   ]
  },
  {
   "cell_type": "code",
   "execution_count": 11,
   "id": "a013f42e",
   "metadata": {},
   "outputs": [],
   "source": [
    "book_1.borrow()"
   ]
  },
  {
   "cell_type": "code",
   "execution_count": 12,
   "id": "64a66f68",
   "metadata": {},
   "outputs": [
    {
     "name": "stdout",
     "output_type": "stream",
     "text": [
      "Title:The River Between, Author:Ngugu wa Thiogo, Book No: 1, Status: Borrowed\n"
     ]
    }
   ],
   "source": [
    "print(book_1)"
   ]
  },
  {
   "cell_type": "code",
   "execution_count": 27,
   "id": "af779b6b",
   "metadata": {},
   "outputs": [],
   "source": [
    "class Member:\n",
    "    def __init__  (self, name, member_id):\n",
    "        self.name =name\n",
    "        self.member_id =member_id\n",
    "        self.borrowed_books = []\n",
    "    def borrow_book(self,book):\n",
    "        if book.is_borrowed:\n",
    "            print('Book is unavailabe')\n",
    "        else:\n",
    "            book.borrow()\n",
    "            self.borrowed_books.append(book)\n",
    "    def return_book(self,book):\n",
    "        if book in self.borrow_book:\n",
    "            self.borrowed_books.remove(book)\n",
    "            book.return_book()\n",
    "            \n",
    "    def __str__ (self):\n",
    "        books =','.join([book.title for book in self.borrowed_books]) or 'Member has no borrowed books '\n",
    "        return f'Member name: {self.name},Member Id: {self.member_id}, Borrowed Books: {books}'\n",
    "\n"
   ]
  },
  {
   "cell_type": "code",
   "execution_count": 32,
   "id": "a0bb5f7c",
   "metadata": {},
   "outputs": [
    {
     "name": "stdout",
     "output_type": "stream",
     "text": [
      "Member name: Maurine,Member Id: 1, Borrowed Books: The Alchemist\n"
     ]
    }
   ],
   "source": [
    "book_2 =Book('The blossom of the savanah', 'Henry ole kulet',2)\n",
    "book_3 =Book('The Alchemist', 'Henry let',3)\n",
    "member_1 =Member ('Maurine',1)\n",
    "\n",
    "member_1.borrow_book(book_3)\n",
    "print(member_1)"
   ]
  }
 ],
 "metadata": {
  "kernelspec": {
   "display_name": "maurineenv",
   "language": "python",
   "name": "python3"
  },
  "language_info": {
   "codemirror_mode": {
    "name": "ipython",
    "version": 3
   },
   "file_extension": ".py",
   "mimetype": "text/x-python",
   "name": "python",
   "nbconvert_exporter": "python",
   "pygments_lexer": "ipython3",
   "version": "3.13.3"
  }
 },
 "nbformat": 4,
 "nbformat_minor": 5
}
