{
 "cells": [
  {
   "cell_type": "markdown",
   "id": "12ef5e61",
   "metadata": {},
   "source": [
    "Lists\n",
    "\n",
    "A list is a built-in python data structure used to store multiple items in a single variable. (Use a bracket)\n",
    "Lists are:\n",
    "-Ordered \n",
    "-Mutable\n",
    "-Indexed\n",
    "-Allow duplicates\n",
    "-Can hold mixed data types "
   ]
  },
  {
   "cell_type": "code",
   "execution_count": null,
   "id": "4118848d",
   "metadata": {},
   "outputs": [],
   "source": [
    "#List of integers \n",
    "number =[1,2,3,4,5]\n",
    "#Mixed data types \n",
    "mixed =[1,'Hello',3.4, True ]\n",
    "\n",
    "#Nested List \n",
    "nested =[[1,2,3],[4,5]\n",
    "]"
   ]
  },
  {
   "cell_type": "markdown",
   "id": "b057b583",
   "metadata": {},
   "source": [
    "Accessing Elements \n",
    "\n",
    "(By index)"
   ]
  },
  {
   "cell_type": "code",
   "execution_count": 13,
   "id": "b6388ed0",
   "metadata": {},
   "outputs": [
    {
     "name": "stdout",
     "output_type": "stream",
     "text": [
      "banana\n"
     ]
    }
   ],
   "source": [
    "fruits =['apple','mango','banana', 'orange', 'grapes']\n",
    "#Accesing banana\n",
    "\n",
    "print(fruits[2])"
   ]
  },
  {
   "cell_type": "markdown",
   "id": "70846b0e",
   "metadata": {},
   "source": [
    "(By slicing)\n",
    "\n",
    "- Start Value \n",
    "- Stop Value (the stop value is exclusive,)\n",
    "- Step Value (sequence[start:stop:step])"
   ]
  },
  {
   "cell_type": "code",
   "execution_count": 14,
   "id": "00dd5d7c",
   "metadata": {},
   "outputs": [
    {
     "name": "stdout",
     "output_type": "stream",
     "text": [
      "['apple', 'mango']\n",
      "['apple', 'mango', 'banana']\n",
      "['apple', 'banana', 'grapes']\n",
      "['apple', 'mango', 'banana', 'orange', 'grapes']\n"
     ]
    }
   ],
   "source": [
    "#Accessing apple and mango \n",
    "\n",
    "print(fruits[0:2])\n",
    "\n",
    "#accessing all the fruits \n",
    "\n",
    "print(fruits[0:3])\n",
    "\n",
    "#Accesing apple and banana\n",
    "print(fruits[::2])\n",
    "\n",
    "#Using step in slicing \n",
    "\n",
    "print(fruits[0:5:1])"
   ]
  },
  {
   "cell_type": "markdown",
   "id": "b596e73f",
   "metadata": {},
   "source": [
    "Modifying Lists "
   ]
  },
  {
   "cell_type": "code",
   "execution_count": 15,
   "id": "d6d5ea51",
   "metadata": {},
   "outputs": [
    {
     "data": {
      "text/plain": [
       "['apple', 'mango', 'Kiwi', 'orange', 'grapes']"
      ]
     },
     "execution_count": 15,
     "metadata": {},
     "output_type": "execute_result"
    }
   ],
   "source": [
    "fruits[2]= 'Kiwi'\n",
    "fruits"
   ]
  },
  {
   "cell_type": "markdown",
   "id": "57988db0",
   "metadata": {},
   "source": [
    "Common List Method \n",
    "- append (x)- Add item x to the end \n",
    "- insert (1,x) - Insert x at index i \n",
    "- remove(x) - Remove first occurence of x \n"
   ]
  },
  {
   "cell_type": "code",
   "execution_count": 19,
   "id": "116dfca7",
   "metadata": {},
   "outputs": [
    {
     "data": {
      "text/plain": [
       "['apple',\n",
       " 'Papaya',\n",
       " 'Papaya',\n",
       " 'mango',\n",
       " 'Kiwi',\n",
       " 'orange',\n",
       " 'grapes',\n",
       " 'Pineapple ',\n",
       " 'Pineapple ']"
      ]
     },
     "execution_count": 19,
     "metadata": {},
     "output_type": "execute_result"
    }
   ],
   "source": [
    "# Add a new fruit at the end \n",
    "\n",
    "fruits.append('Pineapple ')\n",
    "fruits"
   ]
  },
  {
   "cell_type": "code",
   "execution_count": 18,
   "id": "8434da4b",
   "metadata": {},
   "outputs": [
    {
     "data": {
      "text/plain": [
       "['apple',\n",
       " 'Papaya',\n",
       " 'Papaya',\n",
       " 'mango',\n",
       " 'Kiwi',\n",
       " 'orange',\n",
       " 'grapes',\n",
       " 'Pineapple ']"
      ]
     },
     "execution_count": 18,
     "metadata": {},
     "output_type": "execute_result"
    }
   ],
   "source": [
    "#Add a new fruit at index 1 \n",
    "\n",
    "fruits.insert(1, 'Papaya')\n",
    "fruits"
   ]
  },
  {
   "cell_type": "code",
   "execution_count": 20,
   "id": "df4a5df1",
   "metadata": {},
   "outputs": [
    {
     "data": {
      "text/plain": [
       "['apple',\n",
       " 'Papaya',\n",
       " 'Papaya',\n",
       " 'mango',\n",
       " 'orange',\n",
       " 'grapes',\n",
       " 'Pineapple ',\n",
       " 'Pineapple ']"
      ]
     },
     "execution_count": 20,
     "metadata": {},
     "output_type": "execute_result"
    }
   ],
   "source": [
    "#Remove the first occurence of 'Kiwi'\n",
    "\n",
    "fruits.remove('Kiwi')\n",
    "fruits"
   ]
  },
  {
   "cell_type": "code",
   "execution_count": 21,
   "id": "457a92e4",
   "metadata": {},
   "outputs": [
    {
     "data": {
      "text/plain": [
       "['apple',\n",
       " 'Papaya',\n",
       " 'Papaya',\n",
       " 'mango',\n",
       " 'orange',\n",
       " 'grapes',\n",
       " 'Pineapple ',\n",
       " 'Pineapple ',\n",
       " 'Peach',\n",
       " 'Plum ',\n",
       " 'Cherry']"
      ]
     },
     "execution_count": 21,
     "metadata": {},
     "output_type": "execute_result"
    }
   ],
   "source": [
    "#Add mutiple items at once \n",
    "\n",
    "fruits.extend(['Peach','Plum ', 'Cherry'])\n",
    "fruits"
   ]
  },
  {
   "cell_type": "markdown",
   "id": "28ccb8e1",
   "metadata": {},
   "source": [
    "Looping through a list "
   ]
  },
  {
   "cell_type": "markdown",
   "id": "626153dd",
   "metadata": {},
   "source": [
    "String and List Relationship \n",
    "\n",
    "- Strings can be converted to lists using splits();\n"
   ]
  },
  {
   "cell_type": "code",
   "execution_count": 22,
   "id": "8c93683b",
   "metadata": {},
   "outputs": [
    {
     "data": {
      "text/plain": [
       "['Python', 'is', 'fun']"
      ]
     },
     "execution_count": 22,
     "metadata": {},
     "output_type": "execute_result"
    }
   ],
   "source": [
    "sentence =\"Python is fun \"\n",
    "words= sentence.split()\n",
    "\n",
    "words"
   ]
  },
  {
   "cell_type": "markdown",
   "id": "e6c2b4f2",
   "metadata": {},
   "source": [
    "- Lists can be coverted back to strings using join():\n"
   ]
  },
  {
   "cell_type": "code",
   "execution_count": 24,
   "id": "9c2f8ee9",
   "metadata": {},
   "outputs": [
    {
     "data": {
      "text/plain": [
       "'Pythonisfun'"
      ]
     },
     "execution_count": 24,
     "metadata": {},
     "output_type": "execute_result"
    }
   ],
   "source": [
    "sentence = \"\".join(words)\n",
    "sentence"
   ]
  },
  {
   "cell_type": "markdown",
   "id": "262ebf88",
   "metadata": {},
   "source": [
    "Use Built-in Function "
   ]
  },
  {
   "cell_type": "code",
   "execution_count": 25,
   "id": "3e39fe33",
   "metadata": {},
   "outputs": [
    {
     "data": {
      "text/plain": [
       "[1, 2, 3, 4, 5, 6]"
      ]
     },
     "execution_count": 25,
     "metadata": {},
     "output_type": "execute_result"
    }
   ],
   "source": [
    "numbers = [1,2,3,4,5,6]\n",
    "numbers"
   ]
  },
  {
   "cell_type": "code",
   "execution_count": null,
   "id": "7b61c9b6",
   "metadata": {},
   "outputs": [],
   "source": [
    "max(numbers) "
   ]
  }
 ],
 "metadata": {
  "kernelspec": {
   "display_name": "maurineenv",
   "language": "python",
   "name": "python3"
  },
  "language_info": {
   "codemirror_mode": {
    "name": "ipython",
    "version": 3
   },
   "file_extension": ".py",
   "mimetype": "text/x-python",
   "name": "python",
   "nbconvert_exporter": "python",
   "pygments_lexer": "ipython3",
   "version": "3.13.3"
  }
 },
 "nbformat": 4,
 "nbformat_minor": 5
}
