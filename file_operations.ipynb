{
 "cells": [
  {
   "cell_type": "markdown",
   "id": "143d360f",
   "metadata": {},
   "source": [
    "File Operations in Python \n",
    "\n",
    "File handling, is an important skill for any programmer (both you, data scientist and software devs), because data does not live on code alone, data is found in files. \n",
    "\n",
    "Some common use cases for this skill \n",
    "\n",
    "1. Saving the output of your program beyond the console-reporting \n",
    "2. Reading Data for Analysis\n",
    "3. Text processing \n",
    "\n",
    "\n",
    "Opening files in Python (in different modes )"
   ]
  },
  {
   "cell_type": "markdown",
   "id": "3107b9bd",
   "metadata": {},
   "source": [
    "open() method in Python is used to open file..."
   ]
  },
  {
   "cell_type": "code",
   "execution_count": 1,
   "id": "bac0c958",
   "metadata": {},
   "outputs": [
    {
     "name": "stdout",
     "output_type": "stream",
     "text": [
      "<_io.TextIOWrapper name='anthem.txt' mode='r' encoding='cp1252'>\n"
     ]
    }
   ],
   "source": [
    "anthem=open('anthem.txt','r')\n",
    "#r is for read mode\n",
    "#2 arguments: file name and the open mode\n",
    "print(anthem)"
   ]
  },
  {
   "cell_type": "markdown",
   "id": "7b260c21",
   "metadata": {},
   "source": [
    "Open the file, then use the read() method to read the content of the file "
   ]
  },
  {
   "cell_type": "code",
   "execution_count": null,
   "id": "8e58b35b",
   "metadata": {},
   "outputs": [],
   "source": [
    "anthem=open('anthem.txt','r')\n",
    "print(anthem.read())\n",
    "anthem.close()"
   ]
  },
  {
   "cell_type": "code",
   "execution_count": null,
   "id": "7c13d67f",
   "metadata": {},
   "outputs": [],
   "source": [
    "with open('anthem.txt','r') as file:\n",
    "    content =file.read()\n",
    "    print(content)\n",
    "#as is used to assign a name to the file object "
   ]
  },
  {
   "cell_type": "markdown",
   "id": "6d330432",
   "metadata": {},
   "source": [
    "Other ways apart from read(), to read content from a file "
   ]
  },
  {
   "cell_type": "code",
   "execution_count": 3,
   "id": "3ed645dc",
   "metadata": {},
   "outputs": [
    {
     "name": "stdout",
     "output_type": "stream",
     "text": [
      "O God of all creation,\n",
      "\n",
      "Bless this our land and nation,\n",
      "\n",
      "Justice be our shield and defender,\n",
      "\n"
     ]
    }
   ],
   "source": [
    "#readline() reads one line at a time \n",
    "with open('anthem.txt', 'r') as file:\n",
    "    line = file.readline()\n",
    "    line1= file.readline()\n",
    "    line2= file.readline()\n",
    "\n",
    "    print(line)\n",
    "    print(line1)\n",
    "    print(line2)\n"
   ]
  },
  {
   "cell_type": "code",
   "execution_count": 9,
   "id": "27e8e000",
   "metadata": {},
   "outputs": [
    {
     "name": "stdout",
     "output_type": "stream",
     "text": [
      "O God of all creation,\n",
      "\n",
      "Bless this our land and nation,\n",
      "\n",
      "Justice be our shield and defender,\n",
      "\n",
      "May we dwell in unity,\n",
      "\n",
      "Peace and liberty,\n",
      "\n",
      "Plenty be found within our borders.\n"
     ]
    }
   ],
   "source": [
    "with open('anthem.txt','r') as file:\n",
    "    lines =file.readlines()\n",
    "\n",
    "\n",
    "for line in lines:\n",
    "     print(line)"
   ]
  },
  {
   "cell_type": "markdown",
   "id": "2a13282a",
   "metadata": {},
   "source": [
    "Writing Operations in Python "
   ]
  },
  {
   "cell_type": "code",
   "execution_count": 12,
   "id": "c81ea3c6",
   "metadata": {},
   "outputs": [],
   "source": [
    "#write() method......'w'\n",
    "\n",
    "with open ('anthem2.txt', 'w') as file:\n",
    "    file.write('This is a new line')"
   ]
  },
  {
   "cell_type": "code",
   "execution_count": 14,
   "id": "9f236bd6",
   "metadata": {},
   "outputs": [],
   "source": [
    "# Read and write (preseve ) 'r' the file must exixt\n",
    "\n",
    "with open ('anthem2.txt', 'r+') as file:\n",
    "    file.write('This is a new line')"
   ]
  },
  {
   "cell_type": "code",
   "execution_count": null,
   "id": "78aba147",
   "metadata": {},
   "outputs": [],
   "source": [
    "# write and read (overwrite) 'w+' the file does not have to exist \n",
    "with open ('anthem2.txt', 'w+') as file:\n",
    "    file.write('This is a new line')\n",
    "    #file.seek(0)"
   ]
  },
  {
   "cell_type": "code",
   "execution_count": 15,
   "id": "8680cca4",
   "metadata": {},
   "outputs": [],
   "source": [
    "#append mode 'a' updates your content \n",
    "with open ('anthem.txt', 'a') as file:\n",
    "    file.write('Let one and all arise')\n",
    "    file.write('With hearts and hands and voices ')"
   ]
  },
  {
   "cell_type": "code",
   "execution_count": 17,
   "id": "c6d21a7e",
   "metadata": {},
   "outputs": [
    {
     "name": "stdout",
     "output_type": "stream",
     "text": [
      "O God of all creation,\n",
      "Bless this our land and nation,\n",
      "Justice be our shield and defender,\n",
      "May we dwell in unity,\n",
      "Peace and liberty,\n",
      "Plenty be found within our borders.\n",
      "Let one and all ariseLet one and all arise\n"
     ]
    }
   ],
   "source": [
    "#append and read.. 'a+\n",
    "\n",
    "with open ('anthem.txt', 'a+') as file:\n",
    "    file.write('Let one and all arise')\n",
    "    file.seek(0)\n",
    "    print(file.read())\n",
    "    "
   ]
  },
  {
   "cell_type": "code",
   "execution_count": 18,
   "id": "57e703cc",
   "metadata": {},
   "outputs": [],
   "source": [
    "#writeLines( ) method \n",
    "#\\n is used to separate line\n",
    "\n",
    "name =['Maurine\\n', 'Lee\\n', 'Daggy\\n', 'Chela\\n']\n",
    "\n",
    "with open ('names.txt', 'w') as file:\n",
    "    file.writelines(name)"
   ]
  },
  {
   "cell_type": "markdown",
   "id": "8d0d6830",
   "metadata": {},
   "source": [
    "Copying content from one file to another "
   ]
  },
  {
   "cell_type": "code",
   "execution_count": 19,
   "id": "1fa68fb2",
   "metadata": {},
   "outputs": [],
   "source": [
    "with open ('names.txt', 'r') as source_file:\n",
    "    content = source_file.read()\n",
    "with open ('name_backup.txt', 'w') as backup_file:\n",
    "    backup_file.write(content)"
   ]
  },
  {
   "cell_type": "markdown",
   "id": "61f0034e",
   "metadata": {},
   "source": [
    "QUESTIONS"
   ]
  },
  {
   "cell_type": "code",
   "execution_count": 1,
   "id": "2da4a4b8",
   "metadata": {},
   "outputs": [],
   "source": [
    "movies =input( 'Enter  your 3 favourite movie').split(',')\n",
    "with open ('movies.txt', 'w') as file:\n",
    "    for movie in movies:\n",
    "        file.write(movie.strip() + '\\n')"
   ]
  }
 ],
 "metadata": {
  "kernelspec": {
   "display_name": "maurineenv",
   "language": "python",
   "name": "python3"
  },
  "language_info": {
   "codemirror_mode": {
    "name": "ipython",
    "version": 3
   },
   "file_extension": ".py",
   "mimetype": "text/x-python",
   "name": "python",
   "nbconvert_exporter": "python",
   "pygments_lexer": "ipython3",
   "version": "3.13.3"
  }
 },
 "nbformat": 4,
 "nbformat_minor": 5
}
