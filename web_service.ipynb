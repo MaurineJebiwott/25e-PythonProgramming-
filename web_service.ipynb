{
 "cells": [
  {
   "cell_type": "markdown",
   "id": "78fade1d",
   "metadata": {},
   "source": [
    "### HTTP - HyperText Transfer Protocol\n",
    "It is a set of rules/instructions that guides the transfer of infromation between 'machines' over the internet. http methods- instructions that tell the serve what to do with the request.\n",
    "\n",
    "Examples:\n",
    "1. get- retrieves data from the serves\n",
    "2. post - submits data to the server \n",
    "3. put - updates - replaces existing resources/entities\n",
    "4. patch- updates, but update specific fields..."
   ]
  },
  {
   "cell_type": "markdown",
   "id": "117ca104",
   "metadata": {},
   "source": [
    "### XML- Extensible Markup Language\n",
    "It is just a way to store and organize data. Data is organised in tags- much like in html (remember yesterday's class on web scrapping?!)"
   ]
  },
  {
   "cell_type": "markdown",
   "id": "464a5fec",
   "metadata": {},
   "source": [
    "#### Json- Javascript Object Notation\n",
    "It is a just another way the serve stores and organizes data (in response to the client's request). Organises the data in 'dictionaries'"
   ]
  },
  {
   "cell_type": "markdown",
   "id": "0ad3b064",
   "metadata": {},
   "source": [
    "### So what is an API and how does it fit in all this?\n",
    "\n",
    "API stands for Application Programming Interface, is a set of rules that define how 2 applications (client and server) are going to communicate with each other.So think of it as a set of rules,that controls how the 2 can exchange data with each other. Instead of you having to code the request yourself, the API already tells you what data you can ask for and how to ask for it-the API already has the relevant functions.\n",
    "\n",
    "\"If you send me a request in this format, I will send you the data\""
   ]
  }
 ],
 "metadata": {
  "kernelspec": {
   "display_name": "maurineenv",
   "language": "python",
   "name": "python3"
  },
  "language_info": {
   "name": "python",
   "version": "3.13.3"
  }
 },
 "nbformat": 4,
 "nbformat_minor": 5
}
