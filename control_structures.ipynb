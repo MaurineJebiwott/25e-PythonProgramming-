{
 "cells": [
  {
   "cell_type": "code",
   "execution_count": 1,
   "id": "0f5913c7",
   "metadata": {},
   "outputs": [
    {
     "name": "stdout",
     "output_type": "stream",
     "text": [
      "Please vote \n"
     ]
    }
   ],
   "source": [
    "#if executes a certain block of code if a condition us evaluated to True \n",
    "\n",
    "age = 24\n",
    "if age >= 18:\n",
    "    print('Please vote ')"
   ]
  },
  {
   "cell_type": "code",
   "execution_count": null,
   "id": "c606ae15",
   "metadata": {},
   "outputs": [],
   "source": [
    "#if-else allows us to specify a blokc of code that will execute if the condition is evaluated false \n",
    "#Two way decision making "
   ]
  },
  {
   "cell_type": "code",
   "execution_count": null,
   "id": "0d921693",
   "metadata": {},
   "outputs": [],
   "source": [
    "#elif allows us to check multiple statement "
   ]
  },
  {
   "cell_type": "code",
   "execution_count": 2,
   "id": "dc9f9784",
   "metadata": {},
   "outputs": [
    {
     "name": "stdout",
     "output_type": "stream",
     "text": [
      "please vote\n"
     ]
    }
   ],
   "source": [
    "# sometime you want to make even more complex decision making,, you can do that using using nested if-else statements \n",
    "\n",
    "age=24\n",
    "is_registered=True \n",
    "if age >= 18:\n",
    "    if is_registered:\n",
    "        print('please vote')\n",
    "    else:\n",
    "        print('Please got register to vote')\n",
    "else: \n",
    "    print('Too young to vote')\n",
    "\n"
   ]
  },
  {
   "cell_type": "code",
   "execution_count": null,
   "id": "80fc9953",
   "metadata": {},
   "outputs": [],
   "source": [
    "#understanding try anc except clauses-expectations of errors\n",
    "age"
   ]
  },
  {
   "cell_type": "markdown",
   "id": "d87d3240",
   "metadata": {},
   "source": [
    "Loops and interations \n",
    "\n",
    "While loop"
   ]
  },
  {
   "cell_type": "code",
   "execution_count": null,
   "id": "6953b98e",
   "metadata": {},
   "outputs": [
    {
     "name": "stdout",
     "output_type": "stream",
     "text": [
      "5, seconds remaining\n",
      "4, seconds remaining\n",
      "3, seconds remaining\n",
      "2, seconds remaining\n",
      "1, seconds remaining\n",
      "Time is up!\n"
     ]
    }
   ],
   "source": [
    "# while loop will execute a code over and over (iterate) as long as the condition is true \n",
    "#Definite loop\n",
    "count =5\n",
    "while count > 0:\n",
    "    print (f\"{count}, seconds remaining\")\n",
    "    count =count-1\n",
    "\n",
    "print('Time is up!')"
   ]
  },
  {
   "cell_type": "markdown",
   "id": "2473a86a",
   "metadata": {},
   "source": [
    "For Loop"
   ]
  }
 ],
 "metadata": {
  "kernelspec": {
   "display_name": "maurineenv",
   "language": "python",
   "name": "python3"
  },
  "language_info": {
   "codemirror_mode": {
    "name": "ipython",
    "version": 3
   },
   "file_extension": ".py",
   "mimetype": "text/x-python",
   "name": "python",
   "nbconvert_exporter": "python",
   "pygments_lexer": "ipython3",
   "version": "3.13.3"
  }
 },
 "nbformat": 4,
 "nbformat_minor": 5
}
