{
 "cells": [
  {
   "cell_type": "code",
   "execution_count": null,
   "id": "0f5913c7",
   "metadata": {},
   "outputs": [
    {
     "name": "stdout",
     "output_type": "stream",
     "text": [
      "Please vote \n"
     ]
    }
   ],
   "source": [
    "#if executes a certain block of code if a condition us evaluated to True \n",
    "\n",
    "#if condition:\n",
    "    #statement\n",
    "...\n",
    "age = 24\n",
    "if age >= 18:\n",
    "    print('Please vote ')"
   ]
  },
  {
   "cell_type": "code",
   "execution_count": null,
   "id": "c606ae15",
   "metadata": {},
   "outputs": [],
   "source": [
    "#if-else allows us to specify a block of code that will execute if the condition is evaluated false \n",
    "#Two way decision making \n",
    "age=14\n",
    "if age >= 18:\n",
    "    print('Please vote')\n",
    "else:\n",
    "    print('You are not eligible to vote')\n",
    "    "
   ]
  },
  {
   "cell_type": "code",
   "execution_count": null,
   "id": "0d921693",
   "metadata": {},
   "outputs": [
    {
     "name": "stdout",
     "output_type": "stream",
     "text": [
      "adult\n"
     ]
    }
   ],
   "source": [
    "#elif allows us to check multiple statement a third way or 4 decision \n",
    "\n",
    "age =23\n",
    "if age <= 12:\n",
    "    print('Children')\n",
    "elif age<19:\n",
    "    print('teen')\n",
    "else:\n",
    "    print('adult')\n"
   ]
  },
  {
   "cell_type": "code",
   "execution_count": null,
   "id": "dc9f9784",
   "metadata": {},
   "outputs": [
    {
     "name": "stdout",
     "output_type": "stream",
     "text": [
      "please vote\n"
     ]
    }
   ],
   "source": [
    "# sometime you want to make even more complex decision making,, you can do that using using nested if-else statements \n",
    "#Assign  a bolean value to a variable and use it in an if statement\n",
    "#Hierarchy of statements. \n",
    "age=24\n",
    "is_registered=True \n",
    "if age >= 18:\n",
    "    if is_registered:\n",
    "        print('please vote')\n",
    "    else:\n",
    "        print('Please got register to vote')\n",
    "else: \n",
    "    print('Too young to vote')\n",
    "\n"
   ]
  },
  {
   "cell_type": "code",
   "execution_count": null,
   "id": "80fc9953",
   "metadata": {},
   "outputs": [],
   "source": [
    "#understanding try anc except clauses-expectations of errors\n",
    "#when taking user input "
   ]
  },
  {
   "cell_type": "markdown",
   "id": "d87d3240",
   "metadata": {},
   "source": [
    "Loops and interations \n",
    "\n",
    "While loop"
   ]
  },
  {
   "cell_type": "code",
   "execution_count": null,
   "id": "6953b98e",
   "metadata": {},
   "outputs": [
    {
     "name": "stdout",
     "output_type": "stream",
     "text": [
      "5, seconds remaining\n",
      "4, seconds remaining\n",
      "3, seconds remaining\n",
      "2, seconds remaining\n",
      "1, seconds remaining\n",
      "Time is up!\n"
     ]
    }
   ],
   "source": [
    "# while loop will execute a code over and over (iterate) as long as the condition is true \n",
    "#Definite loop\n",
    "#indented block of code will be executed as long as the condition is true \n",
    "count =5\n",
    "while count > 0:\n",
    "    print (f\"{count}, seconds remaining\")\n",
    "    count =count-1\n",
    "#should always update the variable in the loop to avoid infite loop\n",
    "print('Time is up!')"
   ]
  },
  {
   "cell_type": "markdown",
   "id": "4bd0d917",
   "metadata": {},
   "source": [
    "while true, break to break the infinite loop \n"
   ]
  },
  {
   "cell_type": "code",
   "execution_count": 3,
   "id": "b0f56723",
   "metadata": {},
   "outputs": [
    {
     "name": "stdout",
     "output_type": "stream",
     "text": [
      "Try again\n",
      "Try again\n",
      "Correct\n"
     ]
    }
   ],
   "source": [
    "while True:\n",
    "    name= input('Enter the name of my programming langunge')\n",
    "    if name=='python':\n",
    "        print('Correct')\n",
    "        break\n",
    "    else:\n",
    "        print('Try again')"
   ]
  },
  {
   "cell_type": "markdown",
   "id": "2473a86a",
   "metadata": {},
   "source": [
    "For Loop(47 minutes) iterate through the values of the strings "
   ]
  },
  {
   "cell_type": "code",
   "execution_count": null,
   "id": "29326f2a",
   "metadata": {},
   "outputs": [],
   "source": [
    "my_list =[1,2,3,4,5,6,7]\n",
    "\n",
    "for number in my_list:\n",
    "    print(number+1)"
   ]
  },
  {
   "cell_type": "code",
   "execution_count": 1,
   "id": "7b6e80b1",
   "metadata": {},
   "outputs": [
    {
     "name": "stdout",
     "output_type": "stream",
     "text": [
      "The largest number is 3\n",
      "The largest number is 40\n",
      "The largest number is 80\n",
      "The largest number is 100\n"
     ]
    }
   ],
   "source": [
    "my_list = [3,40,80,100]\n",
    "my_largest=[0]\n",
    "for number in my_list:\n",
    "    if number > my_largest[0]:\n",
    "        my_largest[0]= number \n",
    "\n",
    "        print(f'The largest number is {my_largest[0]}')"
   ]
  },
  {
   "cell_type": "code",
   "execution_count": null,
   "id": "db736ffd",
   "metadata": {},
   "outputs": [],
   "source": []
  }
 ],
 "metadata": {
  "kernelspec": {
   "display_name": "maurineenv",
   "language": "python",
   "name": "python3"
  },
  "language_info": {
   "codemirror_mode": {
    "name": "ipython",
    "version": 3
   },
   "file_extension": ".py",
   "mimetype": "text/x-python",
   "name": "python",
   "nbconvert_exporter": "python",
   "pygments_lexer": "ipython3",
   "version": "3.13.3"
  }
 },
 "nbformat": 4,
 "nbformat_minor": 5
}
