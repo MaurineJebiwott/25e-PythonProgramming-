{
 "cells": [
  {
   "cell_type": "code",
   "execution_count": 2,
   "id": "15fcf6f6",
   "metadata": {},
   "outputs": [
    {
     "name": "stdout",
     "output_type": "stream",
     "text": [
      "Maurine Jebiwott\n"
     ]
    }
   ],
   "source": [
    "print(\"Maurine Jebiwott\")"
   ]
  },
  {
   "cell_type": "code",
   "execution_count": null,
   "id": "72cd477f",
   "metadata": {},
   "outputs": [],
   "source": []
  },
  {
   "cell_type": "code",
   "execution_count": null,
   "id": "3f67af80",
   "metadata": {},
   "outputs": [
    {
     "name": "stdout",
     "output_type": "stream",
     "text": [
      "Welcome  Maurine\n"
     ]
    }
   ],
   "source": [
    "#Input()\n",
    "name =input(\"Enter your name \")\n",
    "print(\"Welcome \", name)"
   ]
  },
  {
   "cell_type": "code",
   "execution_count": null,
   "id": "1d5a28cd",
   "metadata": {},
   "outputs": [
    {
     "name": "stdout",
     "output_type": "stream",
     "text": [
      "<class 'int'>\n",
      "<class 'float'>\n"
     ]
    }
   ],
   "source": [
    "#Knowing the type of variable \n",
    "num1=10\n",
    "num2=5.7\n",
    "#type()\n",
    "print(type(num1))\n",
    "print(type(num2))"
   ]
  },
  {
   "cell_type": "code",
   "execution_count": null,
   "id": "c50af245",
   "metadata": {},
   "outputs": [],
   "source": [
    "#Arithmetic operation \n",
    "x=42\n",
    "y=6.5\n",
    "\n",
    "z=x+y\n",
    "z=x/y\n",
    "z=x*y\n",
    "z=x-y\n"
   ]
  },
  {
   "cell_type": "code",
   "execution_count": 7,
   "id": "77a772c7",
   "metadata": {},
   "outputs": [
    {
     "data": {
      "text/plain": [
       "14.0"
      ]
     },
     "execution_count": 7,
     "metadata": {},
     "output_type": "execute_result"
    }
   ],
   "source": [
    "hours = input(\"Enter hours worked:\")\n",
    "rate = input(\"Enter the rate of pay:\")\n",
    "pay= float(hours)*float(rate)\n",
    "pay"
   ]
  },
  {
   "cell_type": "code",
   "execution_count": 9,
   "id": "401dd987",
   "metadata": {},
   "outputs": [
    {
     "data": {
      "text/plain": [
       "50.0"
      ]
     },
     "execution_count": 9,
     "metadata": {},
     "output_type": "execute_result"
    }
   ],
   "source": [
    "temperature = input(\"What is the temperature in Celsius?\")\n",
    "farenheit =(float(temperature)*9/5)+32\n",
    "farenheit"
   ]
  },
  {
   "cell_type": "code",
   "execution_count": 15,
   "id": "9f144cdd",
   "metadata": {},
   "outputs": [
    {
     "data": {
      "text/plain": [
       "77.0"
      ]
     },
     "execution_count": 15,
     "metadata": {},
     "output_type": "execute_result"
    }
   ],
   "source": [
    "def temperature_convertor(celcius):\n",
    "    farenheit =(celcius*9/5)+32\n",
    "    return farenheit\n",
    "\n",
    "temperature_convertor(25)\n",
    "    "
   ]
  }
 ],
 "metadata": {
  "kernelspec": {
   "display_name": "maurineenv",
   "language": "python",
   "name": "python3"
  },
  "language_info": {
   "codemirror_mode": {
    "name": "ipython",
    "version": 3
   },
   "file_extension": ".py",
   "mimetype": "text/x-python",
   "name": "python",
   "nbconvert_exporter": "python",
   "pygments_lexer": "ipython3",
   "version": "3.13.3"
  }
 },
 "nbformat": 4,
 "nbformat_minor": 5
}
