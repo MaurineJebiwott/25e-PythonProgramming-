{
 "cells": [
  {
   "cell_type": "markdown",
   "id": "a3ed0b78",
   "metadata": {},
   "source": [
    "Tuples \n",
    "A tuple is a build-in Python data structure used to store multiple items in a single variables. Use parathesis ()\n",
    "\n",
    "Tuples are:\n",
    "\n",
    "- Ordered\n",
    "- Immutable\n",
    "- Indexed \n",
    "- Allow duplicate \n",
    "- Can hold mixed data type "
   ]
  },
  {
   "cell_type": "code",
   "execution_count": null,
   "id": "1968b8a4",
   "metadata": {},
   "outputs": [],
   "source": [
    "#Empty Tuple\n",
    "empty = ()\n",
    "\n",
    "#Tuple with mixed data types\n",
    "info =('John',24, 2.5, True )\n",
    "\n",
    "#Tuples with integers\n",
    "number = (1,12,3.5)"
   ]
  },
  {
   "cell_type": "markdown",
   "id": "7fc58059",
   "metadata": {},
   "source": [
    "Accesing the Tuple \n",
    "  Indexing"
   ]
  },
  {
   "cell_type": "code",
   "execution_count": null,
   "id": "1c180ac0",
   "metadata": {},
   "outputs": [],
   "source": [
    "fruits =('apple','mango','banana', 'orange', 'grapes')\n",
    "fruits[::-1] #Reversing the tuple "
   ]
  },
  {
   "cell_type": "markdown",
   "id": "73e284c1",
   "metadata": {},
   "source": [
    "Common tuple methods\n",
    "- Count(x)(Returns number of occurence)\n",
    "- Index(x)(Return first index of x)"
   ]
  },
  {
   "cell_type": "markdown",
   "id": "576080be",
   "metadata": {},
   "source": [
    "Nesting And Mixed Tuples\n",
    "\n",
    "  - Tuples can contain other tuples or lists\n",
    "  - Unpack tuples \n"
   ]
  },
  {
   "cell_type": "code",
   "execution_count": 4,
   "id": "b1537af1",
   "metadata": {},
   "outputs": [
    {
     "name": "stdout",
     "output_type": "stream",
     "text": [
      "Maurine\n"
     ]
    }
   ],
   "source": [
    "# Assign values to multiple variables in one line \n",
    "\n",
    "person = ('Maurine',23, 'Software Engineer')\n",
    "name, age, profession =person \n",
    "#person\n",
    "print(name)"
   ]
  },
  {
   "cell_type": "code",
   "execution_count": 6,
   "id": "941e607b",
   "metadata": {},
   "outputs": [
    {
     "data": {
      "text/plain": [
       "5"
      ]
     },
     "execution_count": 6,
     "metadata": {},
     "output_type": "execute_result"
    }
   ],
   "source": [
    "#Tuples can contain other tuples or lists \n",
    "\n",
    "nested =(1,2,(3,4),[5,6])\n",
    "\n",
    "nested[3][0] #accessing 5\n"
   ]
  },
  {
   "cell_type": "markdown",
   "id": "a79ce6b7",
   "metadata": {},
   "source": [
    "Even though the tuple is immutable, mutable elements inside (like a list ) can be modified"
   ]
  },
  {
   "cell_type": "code",
   "execution_count": 7,
   "id": "cf160170",
   "metadata": {},
   "outputs": [
    {
     "data": {
      "text/plain": [
       "[5, 6, 7]"
      ]
     },
     "execution_count": 7,
     "metadata": {},
     "output_type": "execute_result"
    }
   ],
   "source": [
    "nested[3].append(7)\n",
    "nested[3]"
   ]
  }
 ],
 "metadata": {
  "kernelspec": {
   "display_name": "maurineenv",
   "language": "python",
   "name": "python3"
  },
  "language_info": {
   "codemirror_mode": {
    "name": "ipython",
    "version": 3
   },
   "file_extension": ".py",
   "mimetype": "text/x-python",
   "name": "python",
   "nbconvert_exporter": "python",
   "pygments_lexer": "ipython3",
   "version": "3.13.3"
  }
 },
 "nbformat": 4,
 "nbformat_minor": 5
}
