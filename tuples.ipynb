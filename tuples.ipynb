{
 "cells": [
  {
   "cell_type": "markdown",
   "id": "a3ed0b78",
   "metadata": {},
   "source": [
    "Tuples \n",
    "A tuple is a build-in Python data structure used to store multiple items in a single variables. Use parathesis ()\n",
    "\n",
    "Tuples are:\n",
    "\n",
    "- Ordered\n",
    "- Immutable\n",
    "- Indexed \n",
    "- Allow duplicate \n",
    "- Can hold mixed data type "
   ]
  },
  {
   "cell_type": "code",
   "execution_count": null,
   "id": "1968b8a4",
   "metadata": {},
   "outputs": [],
   "source": [
    "#Empty Tuple\n",
    "empty = ()\n",
    "\n",
    "#Tuple with mixed data types\n",
    "info =('John',24, 2.5, True )\n",
    "\n",
    "#Tuples with integers\n",
    "number = (1,12,3.5)"
   ]
  },
  {
   "cell_type": "markdown",
   "id": "7fc58059",
   "metadata": {},
   "source": [
    "Accesing the Tuple \n",
    "  Indexing"
   ]
  },
  {
   "cell_type": "code",
   "execution_count": null,
   "id": "1c180ac0",
   "metadata": {},
   "outputs": [],
   "source": [
    "fruits =('apple','mango','banana', 'orange', 'grapes')\n",
    "fruits[::-1] #Reversing the tuple "
   ]
  },
  {
   "cell_type": "markdown",
   "id": "73e284c1",
   "metadata": {},
   "source": [
    "Common tuple methods\n",
    "- Count(x)(Returns number of occurence)\n",
    "- Index(x)(Return first index of x)"
   ]
  },
  {
   "cell_type": "markdown",
   "id": "576080be",
   "metadata": {},
   "source": [
    "Nesting And Mixed Tuples\n",
    "\n",
    "  - Tuples can contain other tuples or lists\n",
    "  - Unpack tuples \n"
   ]
  }
 ],
 "metadata": {
  "kernelspec": {
   "display_name": "Python 3",
   "language": "python",
   "name": "python3"
  },
  "language_info": {
   "name": "python",
   "version": "3.13.3"
  }
 },
 "nbformat": 4,
 "nbformat_minor": 5
}
